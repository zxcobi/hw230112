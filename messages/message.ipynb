{
 "cells": [
  {
   "cell_type": "code",
   "execution_count": 1,
   "metadata": {},
   "outputs": [],
   "source": [
    "import pandas as pd\n",
    "from sklearn.model_selection import train_test_split\n",
    "from sklearn.feature_extraction.text import CountVectorizer\n",
    "from sklearn import svm"
   ]
  },
  {
   "cell_type": "code",
   "execution_count": 2,
   "metadata": {},
   "outputs": [],
   "source": [
    "root = \"D:\\\\fd\\\\yanr\\\\machine learning\\\\期终试题\\\\messages\\\\enron1\"\n",
    "hamlist = os.listdir(os.path.join(root,\"ham\"))\n",
    "spamlist = os.listdir(os.path.join(root,\"spam\"))\n",
    "ham_df = pd.DataFrame(columns=['class','content'])\n",
    "for h in hamlist:\n",
    "    with open(os.path.join(root,\"ham\",h), 'r', encoding='utf-8') as f:\n",
    "        data_ham = []\n",
    "        for line in f:\n",
    "            data_line = line.strip(\"\\n\").split()  # 去除首尾换行符，并按空格划分\n",
    "            # print(data_line)\n",
    "            data_ham.extend([i for i in data_line])\n",
    "        # print(data_ham)\n",
    "    ham_df = ham_df.append({\"class\":\"ham\",\"content\":\" \".join(data_ham)},ignore_index=True)\n"
   ]
  },
  {
   "cell_type": "code",
   "execution_count": 4,
   "metadata": {},
   "outputs": [
    {
     "data": {
      "text/html": [
       "<div>\n",
       "<style scoped>\n",
       "    .dataframe tbody tr th:only-of-type {\n",
       "        vertical-align: middle;\n",
       "    }\n",
       "\n",
       "    .dataframe tbody tr th {\n",
       "        vertical-align: top;\n",
       "    }\n",
       "\n",
       "    .dataframe thead th {\n",
       "        text-align: right;\n",
       "    }\n",
       "</style>\n",
       "<table border=\"1\" class=\"dataframe\">\n",
       "  <thead>\n",
       "    <tr style=\"text-align: right;\">\n",
       "      <th></th>\n",
       "      <th>class</th>\n",
       "      <th>content</th>\n",
       "    </tr>\n",
       "  </thead>\n",
       "  <tbody>\n",
       "    <tr>\n",
       "      <th>0</th>\n",
       "      <td>ham</td>\n",
       "      <td>Subject: christmas tree farm pictures</td>\n",
       "    </tr>\n",
       "    <tr>\n",
       "      <th>1</th>\n",
       "      <td>ham</td>\n",
       "      <td>Subject: vastar resources , inc . gary , produ...</td>\n",
       "    </tr>\n",
       "    <tr>\n",
       "      <th>2</th>\n",
       "      <td>ham</td>\n",
       "      <td>Subject: calpine daily gas nomination - calpin...</td>\n",
       "    </tr>\n",
       "    <tr>\n",
       "      <th>3</th>\n",
       "      <td>ham</td>\n",
       "      <td>Subject: re : issue fyi - see note below - alr...</td>\n",
       "    </tr>\n",
       "    <tr>\n",
       "      <th>4</th>\n",
       "      <td>ham</td>\n",
       "      <td>Subject: meter 7268 nov allocation fyi . - - -...</td>\n",
       "    </tr>\n",
       "  </tbody>\n",
       "</table>\n",
       "</div>"
      ],
      "text/plain": [
       "  class                                            content\n",
       "0   ham              Subject: christmas tree farm pictures\n",
       "1   ham  Subject: vastar resources , inc . gary , produ...\n",
       "2   ham  Subject: calpine daily gas nomination - calpin...\n",
       "3   ham  Subject: re : issue fyi - see note below - alr...\n",
       "4   ham  Subject: meter 7268 nov allocation fyi . - - -..."
      ]
     },
     "execution_count": 4,
     "metadata": {},
     "output_type": "execute_result"
    }
   ],
   "source": [
    "ham_df.head()"
   ]
  },
  {
   "cell_type": "code",
   "execution_count": 5,
   "metadata": {},
   "outputs": [
    {
     "name": "stdout",
     "output_type": "stream",
     "text": [
      "['Subject:', 'our', 'recommendations', 'make', 'you', 'big', 'money', 'c', '.', 'd', '.', 'financial', 'newsletter', 'alert', ':', 'strong', 'buy', 'issued', 'on', 'dtoi', 'news', 'alert', '*', '*', '*', '*', '*', '*', '*', '*', '3', '/', '25', '/', '2004', '4', ':', '00', 'pm', 'est', '*', 'dtomi', 'receives', 'request', 'for', 'quote', 'for', 'tandem', 'axle', 'enclosed', 'trailers', '*', '*', 'dtoi', 'up', '50', '%', '*', 'dtomi', ',', 'inc', '.', 'symbol', ':', 'dtoi', 'otc', '.', 'bb', 'price', '$', '1', '.', '25', 'shares', 'out', ':', '26', 'million', 'market', 'capitalization', ':', '$', '24', 'million', 'significant', 'revenue', 'growth', 'in', '2004', 'rating', ':', 'strong', 'buy', '7', 'days', 'trading', 'target', ':', '$', '2', '.', '00', '30', 'day', 'trading', 'target', ':', '$', '3', '.', '50', '*', '*', 'strong', 'buy', 'alert', '*', '*', 'strong', 'buy', 'alert', '*', '*', 'dtomi', ',', 'inc', '.', '(', 'dtomi', 'or', 'the', 'company', ')', 'markets', 'a', 'unique', 'air', 'spring', 'suspension', 'system', ',', 'air', 'spring', 'axlet', ',', 'that', 'allows', 'small', 'to', 'medium', '-', 'sized', 'trailers', 'to', 'be', 'lowered', 'to', 'near', 'flush', 'with', 'the', 'ground', ',', 'greatly', 'improving', 'the', 'safety', 'and', 'ease', 'with', 'which', 'heavy', 'cargo', 'can', 'be', 'loaded', 'and', 'unloaded', '.', 'an', 'aggressive', 'commercialization', 'schedule', 'may', 'bring', 'profitability', 'by', 'mid', '2004', '.', 'dtomi', ',', 'inc', 'is', 'about', 'to', 'release', 'big', 'news', 'in', 'the', 'next', 'week', 'and', 'the', 'stock', 'is', 'expected', 'to', 'rise', 'through', 'the', 'roof', '.', 'as', 'one', 'of', 'our', 'subscribers', 'you', 'already', 'probably', 'reaped', 'the', 'benefits', 'of', 'our', 'china', 'world', 'trade', 'corp', '(', 'cwtd', ')', 'recommendation', '2', 'weeks', 'ago', '.', 'cwtd', 'rose', '900', '%', 'in', 'only', '3', 'days', 'and', 'all', 'of', 'our', 'subscribers', 'turned', 'a', 'quick', 'buck', '!', 'don', \"'\", 't', 'delay', 'and', 'get', 'in', 'on', 'the', 'action', 'early', '!', '!', 'dtomi', ',', 'inc', '.', '(', 'dtoi', ')', 'is', 'about', 'to', 'explode', 'so', 'get', 'in', 'on', 'the', 'action', 'before', 'it', \"'\", 's', 'too', 'late', '!', '�', 'dtomi', ',', 'inc', '.', '(', 'dtomi', 'or', 'the', 'company', ')', 'markets', 'a', 'unique', 'air', 'spring', 'suspension', 'system', ',', 'airspring', 'axle', ',', 'that', 'allows', 'small', 'to', 'medium', '-', 'sized', 'trailers', 'to', 'be', 'lowered', 'to', 'near', 'flush', 'with', 'the', 'ground', ',', 'greatly', 'improving', 'the', 'safety', 'and', 'ease', 'with', 'which', 'heavy', 'cargo', 'can', 'be', 'loaded', 'and', 'unloaded', '�', 'over', '2', 'million', 'small', 'to', 'medium', 'sized', 'trailers', 'are', 'sold', 'annually', 'in', 'the', 'us', '.', 'these', 'trailers', 'are', 'priced', 'up', 'to', 'and', 'over', '$', '5', ',', '000', ',', 'and', 'are', 'marketed', 'to', 'rental', 'agencies', ',', 'home', '-', 'improvement', 'retailers', 'that', 'maintain', 'rental', 'fleets', ',', 'and', 'individuals', 'who', 'need', 'to', 'haul', 'heavy', 'items', 'such', 'as', 'contractor', 'equipment', ',', 'motorcycles', ',', 'snowmobiles', ',', 'jet', 'skis', ',', 'cars', 'and', 'horses', '.', '�', 'management', 'estimates', 'that', 'the', 'initial', 'market', 'for', 'the', 'company', \"'\", 's', 'air', 'spring', 'axle', 'system', 'is', '$', '10', '-', '$', '15', 'million', '.', 'there', 'are', 'thousands', 'of', 'trailer', 'rental', 'locations', 'in', 'the', 'us', ',', 'and', 'the', 'system', 'can', 'improve', 'customer', 'satisfaction', ',', 'safety', 'and', 'labor', 'requirements', '.', 'dtomi', 'is', 'working', 'with', 'a', 'leading', 'home', 'improvement', 'conducting', 'a', 'four', '-', 'month', 'test', 'of', '50', 'trailers', '.', '�', 'the', 'total', 'market', 'will', 'grow', 'to', '$', '140', 'million', 'as', 'the', 'system', 'is', 'licensed', 'to', 'trailer', 'manufacturers', '.', 'dtomi', 'plans', 'to', 'assist', 'manufacturers', 'with', 'integration', 'of', 'the', 'air', 'spring', 'axle', 'system', 'into', 'existing', 'trailer', 'designs', ',', 'and', 'to', 'collaborate', 'with', 'them', 'on', 'marketing', 'efforts', '.', 'management', 'expects', 'licensing', 'fees', 'of', '$', '200', '-', '$', '300', 'per', 'trailer', '.', '�', 'dtomi', 'expects', 'be', 'cash', 'flow', 'positive', 'by', 'the', 'end', 'of', '2004', '.', 'an', 'aggressive', 'multi', '-', 'media', 'marketing', 'effort', 'is', 'underway', ',', 'and', 'rental', 'fleet', 'sales', 'and', 'licensing', 'revenues', 'are', 'expected', 'to', 'bring', 'high', 'margins', '.', 'the', 'company', 'recently', 'raised', 'approximately', '$', '1', '.', '3', 'million', 'in', 'equity', 'capital', '.', '�', 'the', 'company', 'has', 'begun', 'aggressively', 'marketing', 'its', 'product', 'through', 'a', 'variety', 'of', 'methods', ',', 'in', 'an', 'attempt', 'to', 'gain', 'early', 'market', 'share', 'and', 'preempt', 'any', 'competition', 'or', 'patent', 'infringements', '.', '�', 'these', 'trailers', 'are', 'sold', 'to', 'individual', 'consumers', ',', 'car', 'and', 'truck', 'rental', 'agencies', ',', 'and', 'hardware', 'stores', 'that', 'maintain', 'rental', 'fleets', '.', 'there', 'are', 'several', 'thousand', 'trailer', 'rental', 'locations', 'in', 'the', 'u', '.', 's', '.', ',', 'including', 'true', 'value', 'hardware', ',', 'with', '4', ',', '100', 'rental', 'locations', ';', 'united', 'rentals', ',', 'with', '550', 'locations', ';', 'and', 'home', 'depot', ',', 'with', '520', 'locations', '.', '�', 'dtomi', 'estimates', 'that', 'the', 'near', '-', 'term', 'domestic', 'market', 'for', 'the', 'air', 'spring', 'axlet', 'is', '50', ',', '000', 'units', 'per', 'year', ',', 'which', 'should', 'generate', 'revenues', 'of', '$', '10', 'to', '$', '15', 'million', '.', 'overhead', 'is', 'low', ',', 'and', 'initial', 'margins', 'should', 'exceed', '30', '%', '.', 'commercialization', 'is', 'expected', 'to', 'ramp', 'up', 'very', 'quickly', ',', 'and', 'the', 'company', 'expects', 'to', 'be', 'cash', 'flow', 'positive', 'by', 'year', '-', 'end', '2004', '�', 'dtomi', 'raised', 'approximately', '$', '1', '.', '26', 'million', 'in', 'equity', 'financing', 'through', 'december', '2003', ',', 'management', 'expects', 'that', 'this', 'cash', 'will', 'cover', 'all', 'important', 'rollout', 'operations', 'and', 'support', 'the', 'commercialization', 'of', 'the', 'air', 'spring', 'axlet', 'until', 'breakeven', 'is', 'reached', '.', 'the', 'rental', 'and', 'specialty', 'trailer', 'market', 'the', '1992', 'census', 'indicated', 'that', 'there', 'are', 'approximately', '15', 'million', 'small', 'and', 'medium', 'sized', 'trailers', 'in', 'the', 'u', '.', 's', '.', ',', 'and', 'that', 'about', 'one', 'million', 'units', 'are', 'sold', 'annually', '.', 'data', 'from', 'the', 'leading', 'trailer', 'manufacturer', ',', 'wells', 'cargo', ',', 'suggests', 'that', 'the', 'market', 'may', 'be', 'two', 'million', 'trailers', 'per', 'year', '.', 'these', 'trailers', 'are', 'sold', 'to', 'individual', 'consumers', ',', 'car', 'and', 'truck', 'rental', 'agencies', ',', 'and', 'hardware', 'stores', 'that', 'maintain', 'rental', 'fleets', '.', 'there', 'are', 'several', 'thousand', 'trailer', 'rental', 'locations', 'in', 'the', 'u', '.', 's', '.', 'major', 'proprietors', 'include', 'true', 'value', 'hardware', ',', 'with', '4', ',', '100', 'rental', 'locations', ';', 'united', 'rentals', ',', 'with', '550', 'locations', ';', 'and', 'home', 'depot', ',', 'with', '520', 'locations', '.', 'do', 'not', 'waste', 'your', 'money', 'investing', 'in', 'companies', 'that', 'don', \"'\", 't', 'have', 'what', 'it', 'takes', 'to', 'be', 'successful', '.', 'a', 'track', 'record', 'of', 'years', 'of', 'business', 'is', 'just', 'the', 'kind', 'of', 'foundation', 'a', 'great', 'company', 'needs', 'to', 'succeed', '.', 'disclaimer', ':', 'verify', 'all', 'claims', 'and', 'do', 'your', 'own', 'due', 'diligence', '.', 'apple', 'investments', ',', 'inc', 'profiles', 'are', 'not', 'a', 'solicitation', 'or', 'recommendation', 'to', 'buy', ',', 'sell', 'or', 'hold', 'securities', '.', 'apple', 'investments', ',', 'inc', 'is', 'not', 'offering', 'securities', 'for', 'sale', '.', 'an', 'offer', 'to', 'buy', 'or', 'sell', 'can', 'be', 'made', 'only', 'with', 'accompanying', 'disclosure', 'documents', 'and', 'only', 'in', 'the', 'states', 'and', 'provinces', 'for', 'which', 'they', 'are', 'approved', '.', 'all', 'statements', 'and', 'expressions', 'are', 'the', 'sole', 'opinion', 'of', 'the', 'editor', 'and', 'are', 'subject', 'to', 'change', 'without', 'notice', '.', 'apple', 'investments', ',', 'inc', 'is', 'not', 'liable', 'for', 'any', 'investment', 'decisions', 'by', 'its', 'readers', 'or', 'subscribers', '.', 'it', 'is', 'strongly', 'recommended', 'that', 'any', 'purchase', 'or', 'sale', 'decision', 'be', 'discussed', 'with', 'a', 'financial', 'adviser', ',', 'or', 'a', 'broker', '-', 'dealer', ',', 'or', 'a', 'member', 'of', 'any', 'financial', 'regulatory', 'bodies', '.', 'the', 'information', 'contained', 'in', 'apple', 'investments', ',', 'inc', 'profiles', 'is', 'provided', 'as', 'an', 'information', 'service', 'only', '.', 'the', 'accuracy', 'or', 'completeness', 'of', 'the', 'information', 'is', 'not', 'warranted', 'and', 'is', 'only', 'as', 'reliable', 'as', 'the', 'sources', 'from', 'which', 'it', 'was', 'obtained', '.', 'it', 'should', 'be', 'understood', 'the', 'there', 'is', 'no', 'guarantee', 'past', 'performance', 'will', 'be', 'indicative', 'of', 'future', 'results', '.', 'investors', 'are', 'cautioned', 'that', 'they', 'may', 'lose', 'all', 'or', 'a', 'portion', 'of', 'their', 'investment', 'if', 'they', 'make', 'a', 'purchase', 'in', 'apple', 'investments', ',', 'inc', 'profiled', 'stocks', '.', 'in', 'order', 'to', 'be', 'in', 'full', 'compliance', 'with', 'the', 'securities', 'act', 'of', '1933', ',', 'section', '17', '(', 'b', ')', ',', 'apple', 'investments', ',', 'inc', 'and', 'its', 'management', 'receives', 'fees', 'from', 'profiled', 'companies', 'or', 'agents', 'representing', 'the', 'profiled', 'companies', '.', 'these', 'fees', 'may', 'be', 'paid', 'in', 'cash', 'or', 'in', 'stock', 'and', 'they', 'will', 'be', 'fully', 'disclosed', 'in', 'each', 'profile', '.', 'apple', 'investments', ',', 'inc', 'has', 'been', 'compensated', 'twenty', 'thousand', 'dollars', 'cash', 'for', 'the', 'dissemination', 'for', 'this', 'report', ',', 'by', 'a', 'third', 'party', '.', 'neither', 'apple', 'investments', ',', 'inc', 'nor', 'any', 'of', 'its', 'affiliates', ',', 'or', 'employees', 'shall', 'be', 'liable', 'to', 'you', 'or', 'anyone', 'else', 'for', 'any', 'loss', 'or', 'damages', 'from', 'use', 'of', 'this', 'information', 'piece', ',', 'caused', 'in', 'whole', 'or', 'part', 'by', 'its', 'negligence', 'or', 'contingencies', 'beyond', 'its', 'control', 'in', 'procuring', ',', 'compiling', ',', 'interpreting', ',', 'reporting', 'or', 'delivering', 'this', 'e', 'mail', 'and', 'any', 'contents', 'the', 'reader', 'should', 'verify', 'all', 'claims', 'and', 'do', 'their', 'own', 'due', 'diligence', 'before', 'investing', 'in', 'any', 'securities', 'mentioned', '.', 'investing', 'in', 'securities', 'is', 'speculative', 'and', 'carries', 'a', 'high', 'degree', 'of', 'risk', '.', 'the', 'information', 'found', 'in', 'this', 'home', 'page', 'is', 'protected', 'by', 'the', 'copyright', 'laws', 'of', 'the', 'united', 'states', 'and', 'may', 'not', 'be', 'copied', ',', 'or', 'reproduced', 'in', 'any', 'way', 'without', 'the', 'expressed', ',', 'written', 'consent', 'of', 'the', 'editor', 'of', 'apple', 'investments', ',', 'inc', '.', 'gfymo', 'enxcf', 'gjxsd', 'rmxjx', 'rwtre', 'pwtkkmtyep', 'pkhnh', 'trdoj', 'ktowv', 'ikgra', 'pphzv', 'zzsyt', 'sudlz']\n"
     ]
    }
   ],
   "source": [
    "spam_df = pd.DataFrame(columns=['class','content'])\n",
    "for s in spamlist:\n",
    "    # print(s)\n",
    "    with open(os.path.join(root,\"spam\",s), 'r', encoding='utf-8',errors='replace') as obj:\n",
    "        data_spam = []\n",
    "        for line in obj:\n",
    "            data_line = line.strip(\"\\n\").split()  # 去除首尾换行符，并按空格划分\n",
    "            # print(data_line)\n",
    "            data_spam.extend([i for i in data_line])\n",
    "        if \"0754.2004-04-01.GP.spam\" in s:  #查看replace数据处理\n",
    "            print(data_spam)\n",
    "    spam_df = spam_df.append({\"class\":\"spam\",\"content\":\" \".join(data_spam)},ignore_index=True)"
   ]
  },
  {
   "cell_type": "code",
   "execution_count": 6,
   "metadata": {},
   "outputs": [
    {
     "data": {
      "text/html": [
       "<div>\n",
       "<style scoped>\n",
       "    .dataframe tbody tr th:only-of-type {\n",
       "        vertical-align: middle;\n",
       "    }\n",
       "\n",
       "    .dataframe tbody tr th {\n",
       "        vertical-align: top;\n",
       "    }\n",
       "\n",
       "    .dataframe thead th {\n",
       "        text-align: right;\n",
       "    }\n",
       "</style>\n",
       "<table border=\"1\" class=\"dataframe\">\n",
       "  <thead>\n",
       "    <tr style=\"text-align: right;\">\n",
       "      <th></th>\n",
       "      <th>class</th>\n",
       "      <th>content</th>\n",
       "    </tr>\n",
       "  </thead>\n",
       "  <tbody>\n",
       "    <tr>\n",
       "      <th>0</th>\n",
       "      <td>spam</td>\n",
       "      <td>Subject: dobmeos with hgh my energy level has ...</td>\n",
       "    </tr>\n",
       "    <tr>\n",
       "      <th>1</th>\n",
       "      <td>spam</td>\n",
       "      <td>Subject: your prescription is ready . . oxwq s...</td>\n",
       "    </tr>\n",
       "    <tr>\n",
       "      <th>2</th>\n",
       "      <td>spam</td>\n",
       "      <td>Subject: get that new car 8434 people nowthe w...</td>\n",
       "    </tr>\n",
       "    <tr>\n",
       "      <th>3</th>\n",
       "      <td>spam</td>\n",
       "      <td>Subject: await your response dear partner , we...</td>\n",
       "    </tr>\n",
       "    <tr>\n",
       "      <th>4</th>\n",
       "      <td>spam</td>\n",
       "      <td>Subject: coca cola , mbna america , nascar par...</td>\n",
       "    </tr>\n",
       "  </tbody>\n",
       "</table>\n",
       "</div>"
      ],
      "text/plain": [
       "  class                                            content\n",
       "0  spam  Subject: dobmeos with hgh my energy level has ...\n",
       "1  spam  Subject: your prescription is ready . . oxwq s...\n",
       "2  spam  Subject: get that new car 8434 people nowthe w...\n",
       "3  spam  Subject: await your response dear partner , we...\n",
       "4  spam  Subject: coca cola , mbna america , nascar par..."
      ]
     },
     "execution_count": 6,
     "metadata": {},
     "output_type": "execute_result"
    }
   ],
   "source": [
    "spam_df.head()"
   ]
  },
  {
   "cell_type": "code",
   "execution_count": 7,
   "metadata": {},
   "outputs": [
    {
     "data": {
      "text/html": [
       "<div>\n",
       "<style scoped>\n",
       "    .dataframe tbody tr th:only-of-type {\n",
       "        vertical-align: middle;\n",
       "    }\n",
       "\n",
       "    .dataframe tbody tr th {\n",
       "        vertical-align: top;\n",
       "    }\n",
       "\n",
       "    .dataframe thead th {\n",
       "        text-align: right;\n",
       "    }\n",
       "</style>\n",
       "<table border=\"1\" class=\"dataframe\">\n",
       "  <thead>\n",
       "    <tr style=\"text-align: right;\">\n",
       "      <th></th>\n",
       "      <th>class</th>\n",
       "      <th>content</th>\n",
       "    </tr>\n",
       "  </thead>\n",
       "  <tbody>\n",
       "    <tr>\n",
       "      <th>0</th>\n",
       "      <td>ham</td>\n",
       "      <td>Subject: christmas tree farm pictures</td>\n",
       "    </tr>\n",
       "    <tr>\n",
       "      <th>1</th>\n",
       "      <td>ham</td>\n",
       "      <td>Subject: vastar resources , inc . gary , produ...</td>\n",
       "    </tr>\n",
       "    <tr>\n",
       "      <th>2</th>\n",
       "      <td>ham</td>\n",
       "      <td>Subject: calpine daily gas nomination - calpin...</td>\n",
       "    </tr>\n",
       "    <tr>\n",
       "      <th>3</th>\n",
       "      <td>ham</td>\n",
       "      <td>Subject: re : issue fyi - see note below - alr...</td>\n",
       "    </tr>\n",
       "    <tr>\n",
       "      <th>4</th>\n",
       "      <td>ham</td>\n",
       "      <td>Subject: meter 7268 nov allocation fyi . - - -...</td>\n",
       "    </tr>\n",
       "  </tbody>\n",
       "</table>\n",
       "</div>"
      ],
      "text/plain": [
       "  class                                            content\n",
       "0   ham              Subject: christmas tree farm pictures\n",
       "1   ham  Subject: vastar resources , inc . gary , produ...\n",
       "2   ham  Subject: calpine daily gas nomination - calpin...\n",
       "3   ham  Subject: re : issue fyi - see note below - alr...\n",
       "4   ham  Subject: meter 7268 nov allocation fyi . - - -..."
      ]
     },
     "execution_count": 7,
     "metadata": {},
     "output_type": "execute_result"
    }
   ],
   "source": [
    "data_df = pd.concat([ham_df,spam_df])\n",
    "data_df.head()"
   ]
  },
  {
   "cell_type": "code",
   "execution_count": 8,
   "metadata": {},
   "outputs": [],
   "source": [
    "x = data_df['content']\n",
    "y = data_df[\"class\"]\n",
    "x_train, x_test, y_train, y_test = train_test_split(x,y,test_size = 0.2, stratify=y)"
   ]
  },
  {
   "cell_type": "code",
   "execution_count": 9,
   "metadata": {},
   "outputs": [
    {
     "data": {
      "text/plain": [
       "<4137x44269 sparse matrix of type '<class 'numpy.int64'>'\n",
       "\twith 366121 stored elements in Compressed Sparse Row format>"
      ]
     },
     "execution_count": 9,
     "metadata": {},
     "output_type": "execute_result"
    }
   ],
   "source": [
    "cv = CountVectorizer()\n",
    "features = cv.fit_transform(x_train)\n",
    "features"
   ]
  },
  {
   "cell_type": "code",
   "execution_count": 10,
   "metadata": {},
   "outputs": [
    {
     "data": {
      "text/plain": [
       "SVC()"
      ]
     },
     "execution_count": 10,
     "metadata": {},
     "output_type": "execute_result"
    }
   ],
   "source": [
    "model = svm.SVC()\n",
    "model.fit(features,y_train)"
   ]
  },
  {
   "cell_type": "code",
   "execution_count": 11,
   "metadata": {},
   "outputs": [
    {
     "name": "stdout",
     "output_type": "stream",
     "text": [
      "0.9623188405797102\n"
     ]
    }
   ],
   "source": [
    "features_test = cv.transform(x_test)\n",
    "print(model.score(features_test,y_test))"
   ]
  },
  {
   "cell_type": "markdown",
   "metadata": {},
   "source": [
    "本次实验采用http://www.aueb.gr/users/ion/data/enron-spam/中enron1数据，在保持正常邮件与垃圾邮件比例的情况下，训练集和测试集采用8:1的比例进行划分，最终在测试集上达到了96.23%的准确度。"
   ]
  }
 ],
 "metadata": {
  "kernelspec": {
   "display_name": "Python 3.8.12 ('case')",
   "language": "python",
   "name": "python3"
  },
  "language_info": {
   "codemirror_mode": {
    "name": "ipython",
    "version": 3
   },
   "file_extension": ".py",
   "mimetype": "text/x-python",
   "name": "python",
   "nbconvert_exporter": "python",
   "pygments_lexer": "ipython3",
   "version": "3.8.12"
  },
  "orig_nbformat": 4,
  "vscode": {
   "interpreter": {
    "hash": "d3ae0f9c886900b86033f1e5d850341a9be63f079ca811a3ccd283c6662e8a37"
   }
  }
 },
 "nbformat": 4,
 "nbformat_minor": 2
}
